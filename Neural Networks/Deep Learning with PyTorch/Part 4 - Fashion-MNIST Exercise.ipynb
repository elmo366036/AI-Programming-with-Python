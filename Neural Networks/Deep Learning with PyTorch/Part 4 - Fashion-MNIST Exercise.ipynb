{
 "cells": [
  {
   "cell_type": "markdown",
   "metadata": {
    "deletable": true,
    "editable": true
   },
   "source": [
    "# Classifying Fashion-MNIST\n",
    "\n",
    "Now it's your turn to build and train a neural network. You'll be using the [Fashion-MNIST dataset](https://github.com/zalandoresearch/fashion-mnist), a drop-in replacement for the MNIST dataset. MNIST is actually quite trivial with neural networks where you can easily achieve better than 97% accuracy. Fashion-MNIST is a set of 28x28 greyscale images of clothes. It's more complex than MNIST, so it's a better representation of the actual performance of your network, and a better representation of datasets you'll use in the real world.\n",
    "\n",
    "<img src='assets/fashion-mnist-sprite.png' width=500px>\n",
    "\n",
    "In this notebook, you'll build your own neural network. For the most part, you could just copy and paste the code from Part 3, but you wouldn't be learning. It's important for you to write the code yourself and get it to work. Feel free to consult the previous notebook though as you work through this.\n",
    "\n",
    "First off, let's load the dataset through torchvision."
   ]
  },
  {
   "cell_type": "code",
   "execution_count": 1,
   "metadata": {
    "collapsed": true,
    "deletable": true,
    "editable": true
   },
   "outputs": [],
   "source": [
    "import torch\n",
    "from torchvision import datasets, transforms\n",
    "import helper\n",
    "\n",
    "# Define a transform to normalize the data\n",
    "transform = transforms.Compose([transforms.ToTensor(),\n",
    "                                transforms.Normalize((0.5, 0.5, 0.5), (0.5, 0.5, 0.5))])\n",
    "# Download and load the training data\n",
    "trainset = datasets.FashionMNIST('F_MNIST_data/', download=True, train=True, transform=transform)\n",
    "trainloader = torch.utils.data.DataLoader(trainset, batch_size=64, shuffle=True)\n",
    "\n",
    "# Download and load the test data\n",
    "testset = datasets.FashionMNIST('F_MNIST_data/', download=True, train=False, transform=transform)\n",
    "testloader = torch.utils.data.DataLoader(testset, batch_size=64, shuffle=True)"
   ]
  },
  {
   "cell_type": "markdown",
   "metadata": {
    "deletable": true,
    "editable": true
   },
   "source": [
    "Here we can see one of the images."
   ]
  },
  {
   "cell_type": "code",
   "execution_count": 2,
   "metadata": {
    "collapsed": false,
    "deletable": true,
    "editable": true
   },
   "outputs": [
    {
     "data": {
      "image/png": "[encoded data removed]",
      "text/plain": [
       "<matplotlib.figure.Figure at 0x7fbd68861908>"
      ]
     },
     "metadata": {
      "needs_background": "light"
     },
     "output_type": "display_data"
    }
   ],
   "source": [
    "image, label = next(iter(trainloader))\n",
    "helper.imshow(image[0,:]);"
   ]
  },
  {
   "cell_type": "markdown",
   "metadata": {
    "deletable": true,
    "editable": true
   },
   "source": [
    "With the data loaded, it's time to import the necessary packages."
   ]
  },
  {
   "cell_type": "code",
   "execution_count": 3,
   "metadata": {
    "collapsed": true,
    "deletable": true,
    "editable": true
   },
   "outputs": [],
   "source": [
    "%matplotlib inline\n",
    "%config InlineBackend.figure_format = 'retina'\n",
    "\n",
    "import matplotlib.pyplot as plt\n",
    "import numpy as np\n",
    "import time\n",
    "\n",
    "import torch\n",
    "from torch import nn\n",
    "from torch import optim\n",
    "import torch.nn.functional as F\n",
    "from torchvision import datasets, transforms\n",
    "\n",
    "import helper"
   ]
  },
  {
   "cell_type": "markdown",
   "metadata": {
    "deletable": true,
    "editable": true
   },
   "source": [
    "## Building the network\n",
    "\n",
    "Here you should define your network. As with MNIST, each image is 28x28 which is a total of 784 pixels, and there are 10 classes. You should include at least one hidden layer. We suggest you use ReLU activations for the layers and to return the logits from the forward pass. It's up to you how many layers you add and the size of those layers."
   ]
  },
  {
   "cell_type": "code",
   "execution_count": 19,
   "metadata": {
    "collapsed": true,
    "deletable": true,
    "editable": true
   },
   "outputs": [],
   "source": [
    "# TODO: Define your network architecture here\n",
    "# Hyperparameters for our network\n",
    "from collections import OrderedDict\n",
    "\n",
    "input_size = 784\n",
    "hidden_sizes = [400, 200, 100]\n",
    "output_size = 10\n",
    "\n",
    "# Build a feed-forward network\n",
    "model = nn.Sequential(OrderedDict([\n",
    "                      ('fc1', nn.Linear(input_size, hidden_sizes[0])),\n",
    "                      ('relu1', nn.ReLU()),\n",
    "                      ('fc2', nn.Linear(hidden_sizes[0], hidden_sizes[1])),\n",
    "                      ('relu2', nn.ReLU()),\n",
    "                      ('fc3', nn.Linear(hidden_sizes[1], hidden_sizes[2])),\n",
    "                      ('relu3', nn.ReLU()),\n",
    "                      ('logits', nn.Linear(hidden_sizes[2], output_size))]))"
   ]
  },
  {
   "cell_type": "markdown",
   "metadata": {
    "deletable": true,
    "editable": true
   },
   "source": [
    "# Train the network\n",
    "\n",
    "Now you should create your network and train it. First you'll want to define [the criterion](http://pytorch.org/docs/master/nn.html#loss-functions) ( something like `nn.CrossEntropyLoss`) and [the optimizer](http://pytorch.org/docs/master/optim.html) (typically `optim.SGD` or `optim.Adam`).\n",
    "\n",
    "Then write the training code. Remember the training pass is a fairly straightforward process:\n",
    "\n",
    "* Make a forward pass through the network to get the logits \n",
    "* Use the logits to calculate the loss\n",
    "* Perform a backward pass through the network with `loss.backward()` to calculate the gradients\n",
    "* Take a step with the optimizer to update the weights\n",
    "\n",
    "By adjusting the hyperparameters (hidden units, learning rate, etc), you should be able to get the training loss below 0.4."
   ]
  },
  {
   "cell_type": "code",
   "execution_count": 20,
   "metadata": {
    "collapsed": true,
    "deletable": true,
    "editable": true
   },
   "outputs": [],
   "source": [
    "# TODO: Create the network, define the criterion and optimizer\n",
    "criterion = nn.CrossEntropyLoss()\n",
    "optimizer = optim.SGD(model.parameters(), lr=0.01)"
   ]
  },
  {
   "cell_type": "code",
   "execution_count": 23,
   "metadata": {
    "collapsed": false,
    "deletable": true,
    "editable": true
   },
   "outputs": [
    {
     "name": "stdout",
     "output_type": "stream",
     "text": [
      "Epoch: 1/4...  Loss: 0.4801\n",
      "Epoch: 1/4...  Loss: 0.4818\n",
      "Epoch: 1/4...  Loss: 0.4902\n",
      "Epoch: 1/4...  Loss: 0.4345\n",
      "Epoch: 1/4...  Loss: 0.4947\n",
      "Epoch: 1/4...  Loss: 0.4646\n",
      "Epoch: 1/4...  Loss: 0.4855\n",
      "Epoch: 1/4...  Loss: 0.5013\n",
      "Epoch: 1/4...  Loss: 0.4884\n",
      "Epoch: 1/4...  Loss: 0.4606\n",
      "Epoch: 1/4...  Loss: 0.4818\n",
      "Epoch: 1/4...  Loss: 0.4709\n",
      "Epoch: 1/4...  Loss: 0.4678\n",
      "Epoch: 1/4...  Loss: 0.4526\n",
      "Epoch: 1/4...  Loss: 0.4818\n",
      "Epoch: 1/4...  Loss: 0.4371\n",
      "Epoch: 1/4...  Loss: 0.4643\n",
      "Epoch: 1/4...  Loss: 0.4617\n",
      "Epoch: 1/4...  Loss: 0.4638\n",
      "Epoch: 1/4...  Loss: 0.4481\n",
      "Epoch: 1/4...  Loss: 0.4755\n",
      "Epoch: 1/4...  Loss: 0.4256\n",
      "Epoch: 1/4...  Loss: 0.4411\n",
      "Epoch: 2/4...  Loss: 0.2481\n",
      "Epoch: 2/4...  Loss: 0.4478\n",
      "Epoch: 2/4...  Loss: 0.4611\n",
      "Epoch: 2/4...  Loss: 0.4324\n",
      "Epoch: 2/4...  Loss: 0.4345\n",
      "Epoch: 2/4...  Loss: 0.4368\n",
      "Epoch: 2/4...  Loss: 0.4447\n",
      "Epoch: 2/4...  Loss: 0.4452\n",
      "Epoch: 2/4...  Loss: 0.4239\n",
      "Epoch: 2/4...  Loss: 0.4677\n",
      "Epoch: 2/4...  Loss: 0.4363\n",
      "Epoch: 2/4...  Loss: 0.4493\n",
      "Epoch: 2/4...  Loss: 0.4436\n",
      "Epoch: 2/4...  Loss: 0.4515\n",
      "Epoch: 2/4...  Loss: 0.4336\n",
      "Epoch: 2/4...  Loss: 0.4389\n",
      "Epoch: 2/4...  Loss: 0.4121\n",
      "Epoch: 2/4...  Loss: 0.4229\n",
      "Epoch: 2/4...  Loss: 0.4381\n",
      "Epoch: 2/4...  Loss: 0.4737\n",
      "Epoch: 2/4...  Loss: 0.3992\n",
      "Epoch: 2/4...  Loss: 0.4270\n",
      "Epoch: 2/4...  Loss: 0.4400\n",
      "Epoch: 3/4...  Loss: 0.0429\n",
      "Epoch: 3/4...  Loss: 0.4123\n",
      "Epoch: 3/4...  Loss: 0.4148\n",
      "Epoch: 3/4...  Loss: 0.4336\n",
      "Epoch: 3/4...  Loss: 0.4138\n",
      "Epoch: 3/4...  Loss: 0.4133\n",
      "Epoch: 3/4...  Loss: 0.4171\n",
      "Epoch: 3/4...  Loss: 0.4373\n",
      "Epoch: 3/4...  Loss: 0.4409\n",
      "Epoch: 3/4...  Loss: 0.4086\n",
      "Epoch: 3/4...  Loss: 0.4112\n",
      "Epoch: 3/4...  Loss: 0.4448\n",
      "Epoch: 3/4...  Loss: 0.3968\n",
      "Epoch: 3/4...  Loss: 0.4457\n",
      "Epoch: 3/4...  Loss: 0.3893\n",
      "Epoch: 3/4...  Loss: 0.4007\n",
      "Epoch: 3/4...  Loss: 0.4339\n",
      "Epoch: 3/4...  Loss: 0.4159\n",
      "Epoch: 3/4...  Loss: 0.4118\n",
      "Epoch: 3/4...  Loss: 0.4113\n",
      "Epoch: 3/4...  Loss: 0.4017\n",
      "Epoch: 3/4...  Loss: 0.4041\n",
      "Epoch: 3/4...  Loss: 0.4183\n",
      "Epoch: 3/4...  Loss: 0.4390\n",
      "Epoch: 4/4...  Loss: 0.2604\n",
      "Epoch: 4/4...  Loss: 0.4020\n",
      "Epoch: 4/4...  Loss: 0.4032\n",
      "Epoch: 4/4...  Loss: 0.3895\n",
      "Epoch: 4/4...  Loss: 0.3994\n",
      "Epoch: 4/4...  Loss: 0.4052\n",
      "Epoch: 4/4...  Loss: 0.3985\n",
      "Epoch: 4/4...  Loss: 0.3815\n",
      "Epoch: 4/4...  Loss: 0.3790\n",
      "Epoch: 4/4...  Loss: 0.4015\n",
      "Epoch: 4/4...  Loss: 0.4068\n",
      "Epoch: 4/4...  Loss: 0.3926\n",
      "Epoch: 4/4...  Loss: 0.4192\n",
      "Epoch: 4/4...  Loss: 0.4164\n",
      "Epoch: 4/4...  Loss: 0.4157\n",
      "Epoch: 4/4...  Loss: 0.4044\n",
      "Epoch: 4/4...  Loss: 0.3743\n",
      "Epoch: 4/4...  Loss: 0.3800\n",
      "Epoch: 4/4...  Loss: 0.3897\n",
      "Epoch: 4/4...  Loss: 0.3984\n",
      "Epoch: 4/4...  Loss: 0.4176\n",
      "Epoch: 4/4...  Loss: 0.4230\n",
      "Epoch: 4/4...  Loss: 0.3796\n"
     ]
    }
   ],
   "source": [
    "# TODO: Train the network here\n",
    "epochs = 4\n",
    "print_every = 40\n",
    "steps = 0\n",
    "for e in range(epochs):\n",
    "    running_loss = 0\n",
    "    for images, labels in iter(trainloader):\n",
    "        steps += 1\n",
    "        # Flatten MNIST images into a 784 long vector\n",
    "        images.resize_(images.size()[0], 784)\n",
    "        \n",
    "        optimizer.zero_grad()\n",
    "        \n",
    "        # Forward and backward passes\n",
    "        output = model.forward(images)\n",
    "        loss = criterion(output, labels)\n",
    "        loss.backward()\n",
    "        optimizer.step()\n",
    "        \n",
    "        running_loss += loss.item()\n",
    "        \n",
    "        if steps % print_every == 0:\n",
    "            print(\"Epoch: {}/{}... \".format(e+1, epochs),\n",
    "                  \"Loss: {:.4f}\".format(running_loss/print_every))\n",
    "            \n",
    "            running_loss = 0"
   ]
  },
  {
   "cell_type": "code",
   "execution_count": 24,
   "metadata": {
    "collapsed": false,
    "deletable": true,
    "editable": true
   },
   "outputs": [
    {
     "data": {
      "image/png": "[encoded data removed]",
      "text/plain": [
       "<matplotlib.figure.Figure at 0x7fbd16edae80>"
      ]
     },
     "metadata": {
      "image/png": {
       "height": 204,
       "width": 423
      },
      "needs_background": "light"
     },
     "output_type": "display_data"
    }
   ],
   "source": [
    "# Test out your network!\n",
    "\n",
    "dataiter = iter(testloader)\n",
    "images, labels = dataiter.next()\n",
    "img = images[0]\n",
    "# Convert 2D image to 1D vector\n",
    "img = img.resize_(1, 784)\n",
    "\n",
    "# TODO: Calculate the class probabilities (softmax) for img\n",
    "# Turn off gradients to speed up this part\n",
    "with torch.no_grad():\n",
    "    logits = model.forward(img)\n",
    "ps = F.softmax(logits, dim=1)\n",
    "\n",
    "# Plot the image and probabilities\n",
    "helper.view_classify(img.resize_(1, 28, 28), ps, version='Fashion')"
   ]
  },
  {
   "cell_type": "markdown",
   "metadata": {
    "deletable": true,
    "editable": true
   },
   "source": [
    "Now that your network is trained, you'll want to save it to disk so you can load it later instead of training it again. Obviously, it's impractical to train a network every time you need one. In practice, you'll train it once, save the model, then reload it for further training or making predictions. In the next part, I'll show you how to save and load trained models."
   ]
  }
 ],
 "metadata": {
  "kernelspec": {
   "display_name": "Python 3",
   "language": "python",
   "name": "python3"
  },
  "language_info": {
   "codemirror_mode": {
    "name": "ipython",
    "version": 3
   },
   "file_extension": ".py",
   "mimetype": "text/x-python",
   "name": "python",
   "nbconvert_exporter": "python",
   "pygments_lexer": "ipython3",
   "version": "3.5.2"
  }
 },
 "nbformat": 4,
 "nbformat_minor": 2
}
